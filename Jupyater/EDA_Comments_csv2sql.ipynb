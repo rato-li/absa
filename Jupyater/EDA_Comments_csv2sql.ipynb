{
 "cells": [
  {
   "cell_type": "markdown",
   "id": "bf2aebc8-5325-4b45-9178-0ca050467268",
   "metadata": {},
   "source": [
    "# EDA on Response Comments - 383,418"
   ]
  },
  {
   "cell_type": "code",
   "execution_count": 54,
   "id": "57358f53-06d1-4db3-8efb-b6daf1585767",
   "metadata": {},
   "outputs": [],
   "source": [
    "import pandas as pd\n",
    "import numpy as np\n",
    "import matplotlib.pyplot as plt\n",
    "import getpass"
   ]
  },
  {
   "cell_type": "code",
   "execution_count": 2,
   "id": "effb74e3-e8fa-4bf3-8b01-dff03dcb4821",
   "metadata": {},
   "outputs": [],
   "source": [
    "import seaborn as sns\n",
    "import matplotlib.pyplot as plt\n",
    "import plotly.express as px\n",
    "\n",
    "# Suppress warnings\n",
    "import warnings\n",
    "warnings.filterwarnings('ignore')\n",
    "sns.set(style='ticks')  #set styling preferences\n",
    "%matplotlib inline"
   ]
  },
  {
   "cell_type": "code",
   "execution_count": 30,
   "id": "eb270585-38d4-4511-91d1-5173648e8a32",
   "metadata": {},
   "outputs": [
    {
     "data": {
      "text/html": [
       "<div>\n",
       "<style scoped>\n",
       "    .dataframe tbody tr th:only-of-type {\n",
       "        vertical-align: middle;\n",
       "    }\n",
       "\n",
       "    .dataframe tbody tr th {\n",
       "        vertical-align: top;\n",
       "    }\n",
       "\n",
       "    .dataframe thead th {\n",
       "        text-align: right;\n",
       "    }\n",
       "</style>\n",
       "<table border=\"1\" class=\"dataframe\">\n",
       "  <thead>\n",
       "    <tr style=\"text-align: right;\">\n",
       "      <th></th>\n",
       "      <th>RESP_ID</th>\n",
       "      <th>RESP_SURVEY_ID</th>\n",
       "      <th>RESP_Q_ID</th>\n",
       "      <th>RESP_POINTS</th>\n",
       "      <th>RESP_TEACHER_INCORRECT</th>\n",
       "      <th>RESP_FIELDOFSTUDY</th>\n",
       "      <th>RESP_IMPORT_BATCH</th>\n",
       "      <th>RESP_DMG_AGE</th>\n",
       "      <th>RESP_DMG_BASIS_OF_ADM</th>\n",
       "      <th>RESP_DMG_SCHOLARSHIP</th>\n",
       "      <th>RESP_DMG_UAC_PREFERENCE</th>\n",
       "      <th>RESP_DMG_ATAR_ON_ADM</th>\n",
       "      <th>RESP_DMG_PREVIOUS_CREDIT</th>\n",
       "      <th>RESP_COMMENT_HIDDEN</th>\n",
       "    </tr>\n",
       "  </thead>\n",
       "  <tbody>\n",
       "    <tr>\n",
       "      <th>count</th>\n",
       "      <td>3.832164e+06</td>\n",
       "      <td>3.832164e+06</td>\n",
       "      <td>3.832164e+06</td>\n",
       "      <td>2.855441e+06</td>\n",
       "      <td>100805.0</td>\n",
       "      <td>3.806395e+06</td>\n",
       "      <td>25147.000000</td>\n",
       "      <td>3.630363e+06</td>\n",
       "      <td>3.625224e+06</td>\n",
       "      <td>6674.000000</td>\n",
       "      <td>3.630123e+06</td>\n",
       "      <td>404938.000000</td>\n",
       "      <td>3.630123e+06</td>\n",
       "      <td>3.832164e+06</td>\n",
       "    </tr>\n",
       "    <tr>\n",
       "      <th>mean</th>\n",
       "      <td>1.832717e+07</td>\n",
       "      <td>2.568385e+05</td>\n",
       "      <td>3.039899e+03</td>\n",
       "      <td>4.126253e+00</td>\n",
       "      <td>1.0</td>\n",
       "      <td>1.690931e+04</td>\n",
       "      <td>258.898994</td>\n",
       "      <td>2.351199e+01</td>\n",
       "      <td>1.832594e+01</td>\n",
       "      <td>11.853761</td>\n",
       "      <td>1.017596e+00</td>\n",
       "      <td>71.861621</td>\n",
       "      <td>3.588969e+00</td>\n",
       "      <td>2.348542e-06</td>\n",
       "    </tr>\n",
       "    <tr>\n",
       "      <th>std</th>\n",
       "      <td>2.534124e+06</td>\n",
       "      <td>5.238384e+04</td>\n",
       "      <td>1.110361e+03</td>\n",
       "      <td>9.610012e-01</td>\n",
       "      <td>0.0</td>\n",
       "      <td>2.746499e+04</td>\n",
       "      <td>238.113326</td>\n",
       "      <td>6.030616e+00</td>\n",
       "      <td>9.177150e+00</td>\n",
       "      <td>2.439905</td>\n",
       "      <td>9.413343e-01</td>\n",
       "      <td>31.603650</td>\n",
       "      <td>1.403345e+01</td>\n",
       "      <td>1.532494e-03</td>\n",
       "    </tr>\n",
       "    <tr>\n",
       "      <th>min</th>\n",
       "      <td>1.392660e+07</td>\n",
       "      <td>1.634020e+05</td>\n",
       "      <td>5.000000e+00</td>\n",
       "      <td>0.000000e+00</td>\n",
       "      <td>1.0</td>\n",
       "      <td>0.000000e+00</td>\n",
       "      <td>1.000000</td>\n",
       "      <td>1.500000e+01</td>\n",
       "      <td>1.100000e+01</td>\n",
       "      <td>1.000000</td>\n",
       "      <td>0.000000e+00</td>\n",
       "      <td>0.000000</td>\n",
       "      <td>0.000000e+00</td>\n",
       "      <td>0.000000e+00</td>\n",
       "    </tr>\n",
       "    <tr>\n",
       "      <th>25%</th>\n",
       "      <td>1.617582e+07</td>\n",
       "      <td>2.146050e+05</td>\n",
       "      <td>3.131000e+03</td>\n",
       "      <td>4.000000e+00</td>\n",
       "      <td>1.0</td>\n",
       "      <td>0.000000e+00</td>\n",
       "      <td>55.000000</td>\n",
       "      <td>2.000000e+01</td>\n",
       "      <td>1.100000e+01</td>\n",
       "      <td>10.000000</td>\n",
       "      <td>0.000000e+00</td>\n",
       "      <td>74.200000</td>\n",
       "      <td>0.000000e+00</td>\n",
       "      <td>0.000000e+00</td>\n",
       "    </tr>\n",
       "    <tr>\n",
       "      <th>50%</th>\n",
       "      <td>1.832045e+07</td>\n",
       "      <td>2.582620e+05</td>\n",
       "      <td>3.708000e+03</td>\n",
       "      <td>4.000000e+00</td>\n",
       "      <td>1.0</td>\n",
       "      <td>0.000000e+00</td>\n",
       "      <td>124.000000</td>\n",
       "      <td>2.200000e+01</td>\n",
       "      <td>1.400000e+01</td>\n",
       "      <td>10.000000</td>\n",
       "      <td>1.000000e+00</td>\n",
       "      <td>82.900000</td>\n",
       "      <td>0.000000e+00</td>\n",
       "      <td>0.000000e+00</td>\n",
       "    </tr>\n",
       "    <tr>\n",
       "      <th>75%</th>\n",
       "      <td>2.053033e+07</td>\n",
       "      <td>3.007570e+05</td>\n",
       "      <td>3.712000e+03</td>\n",
       "      <td>5.000000e+00</td>\n",
       "      <td>1.0</td>\n",
       "      <td>4.010100e+04</td>\n",
       "      <td>469.000000</td>\n",
       "      <td>2.500000e+01</td>\n",
       "      <td>2.900000e+01</td>\n",
       "      <td>14.000000</td>\n",
       "      <td>1.000000e+00</td>\n",
       "      <td>89.500000</td>\n",
       "      <td>0.000000e+00</td>\n",
       "      <td>0.000000e+00</td>\n",
       "    </tr>\n",
       "    <tr>\n",
       "      <th>max</th>\n",
       "      <td>2.268375e+07</td>\n",
       "      <td>3.506260e+05</td>\n",
       "      <td>4.047000e+03</td>\n",
       "      <td>7.000000e+00</td>\n",
       "      <td>1.0</td>\n",
       "      <td>9.050500e+04</td>\n",
       "      <td>631.000000</td>\n",
       "      <td>8.000000e+01</td>\n",
       "      <td>6.200000e+01</td>\n",
       "      <td>15.000000</td>\n",
       "      <td>9.900000e+01</td>\n",
       "      <td>194.000000</td>\n",
       "      <td>2.160000e+02</td>\n",
       "      <td>1.000000e+00</td>\n",
       "    </tr>\n",
       "  </tbody>\n",
       "</table>\n",
       "</div>"
      ],
      "text/plain": [
       "            RESP_ID  RESP_SURVEY_ID     RESP_Q_ID   RESP_POINTS  \\\n",
       "count  3.832164e+06    3.832164e+06  3.832164e+06  2.855441e+06   \n",
       "mean   1.832717e+07    2.568385e+05  3.039899e+03  4.126253e+00   \n",
       "std    2.534124e+06    5.238384e+04  1.110361e+03  9.610012e-01   \n",
       "min    1.392660e+07    1.634020e+05  5.000000e+00  0.000000e+00   \n",
       "25%    1.617582e+07    2.146050e+05  3.131000e+03  4.000000e+00   \n",
       "50%    1.832045e+07    2.582620e+05  3.708000e+03  4.000000e+00   \n",
       "75%    2.053033e+07    3.007570e+05  3.712000e+03  5.000000e+00   \n",
       "max    2.268375e+07    3.506260e+05  4.047000e+03  7.000000e+00   \n",
       "\n",
       "       RESP_TEACHER_INCORRECT  RESP_FIELDOFSTUDY  RESP_IMPORT_BATCH  \\\n",
       "count                100805.0       3.806395e+06       25147.000000   \n",
       "mean                      1.0       1.690931e+04         258.898994   \n",
       "std                       0.0       2.746499e+04         238.113326   \n",
       "min                       1.0       0.000000e+00           1.000000   \n",
       "25%                       1.0       0.000000e+00          55.000000   \n",
       "50%                       1.0       0.000000e+00         124.000000   \n",
       "75%                       1.0       4.010100e+04         469.000000   \n",
       "max                       1.0       9.050500e+04         631.000000   \n",
       "\n",
       "       RESP_DMG_AGE  RESP_DMG_BASIS_OF_ADM  RESP_DMG_SCHOLARSHIP  \\\n",
       "count  3.630363e+06           3.625224e+06           6674.000000   \n",
       "mean   2.351199e+01           1.832594e+01             11.853761   \n",
       "std    6.030616e+00           9.177150e+00              2.439905   \n",
       "min    1.500000e+01           1.100000e+01              1.000000   \n",
       "25%    2.000000e+01           1.100000e+01             10.000000   \n",
       "50%    2.200000e+01           1.400000e+01             10.000000   \n",
       "75%    2.500000e+01           2.900000e+01             14.000000   \n",
       "max    8.000000e+01           6.200000e+01             15.000000   \n",
       "\n",
       "       RESP_DMG_UAC_PREFERENCE  RESP_DMG_ATAR_ON_ADM  \\\n",
       "count             3.630123e+06         404938.000000   \n",
       "mean              1.017596e+00             71.861621   \n",
       "std               9.413343e-01             31.603650   \n",
       "min               0.000000e+00              0.000000   \n",
       "25%               0.000000e+00             74.200000   \n",
       "50%               1.000000e+00             82.900000   \n",
       "75%               1.000000e+00             89.500000   \n",
       "max               9.900000e+01            194.000000   \n",
       "\n",
       "       RESP_DMG_PREVIOUS_CREDIT  RESP_COMMENT_HIDDEN  \n",
       "count              3.630123e+06         3.832164e+06  \n",
       "mean               3.588969e+00         2.348542e-06  \n",
       "std                1.403345e+01         1.532494e-03  \n",
       "min                0.000000e+00         0.000000e+00  \n",
       "25%                0.000000e+00         0.000000e+00  \n",
       "50%                0.000000e+00         0.000000e+00  \n",
       "75%                0.000000e+00         0.000000e+00  \n",
       "max                2.160000e+02         1.000000e+00  "
      ]
     },
     "execution_count": 30,
     "metadata": {},
     "output_type": "execute_result"
    }
   ],
   "source": [
    "import pandas as pd\n",
    "\n",
    "import matplotlib.pyplot as plt\n",
    "%matplotlib inline\n",
    "\n",
    "path=\"Data//\"#<-----------change directory\n",
    "file=\"SFS_Responses_Export_File_2017-1_to_2017-2(wo CIC TDI) - iLab.xlsx\"\n",
    "df=pd.read_excel(path+file)\n",
    "\n",
    "file1=\"SFS_Responses_Export_File_2018-1_to_2018-2(wo TDI) - iLab.xlsx\"\n",
    "df1 = pd.read_excel(path+file1)\n",
    "\n",
    "file2=\"SFS_Responses_Export_File_2019-1_to_2019-2(wo TDI) - iLab.xlsx\"\n",
    "df2 = pd.read_excel(path+file2)\n",
    "\n",
    "file3=\"SFS_Responses_Export_File_2020-1_to_2020-2 (wo TDI) - iLab.xlsx\"\n",
    "df3 = pd.read_excel(path+file3)\n",
    "\n",
    "file4=\"SFS_Responses_Export_File_2021-1_to_2021-2(wo TDI) - iLab.xlsx\"\n",
    "df4 = pd.read_excel(path+file4)\n",
    "\n",
    "df = df.append(df1).append(df2).append(df3).append(df4)\n",
    "df.describe()"
   ]
  },
  {
   "cell_type": "code",
   "execution_count": 36,
   "id": "9e8437a4-a652-4e20-88fa-edff548caeb2",
   "metadata": {},
   "outputs": [
    {
     "name": "stdout",
     "output_type": "stream",
     "text": [
      "<class 'pandas.core.frame.DataFrame'>\n",
      "Int64Index: 3832164 entries, 0 to 530047\n",
      "Data columns (total 40 columns):\n",
      " #   Column                    Dtype         \n",
      "---  ------                    -----         \n",
      " 0   RESP_ID                   int64         \n",
      " 1   RESP_SURVEY_ID            int64         \n",
      " 2   RESP_Q_ID                 int64         \n",
      " 3   RESP_POINTS               float64       \n",
      " 4   RESP_COMMENT              object        \n",
      " 5   RESP_MAJORS               object        \n",
      " 6   RESP_IMAGE                object        \n",
      " 7   RESP_TEACHER_ID           object        \n",
      " 8   RESP_TEACHER_INCORRECT    float64       \n",
      " 9   RESP_DATE                 datetime64[ns]\n",
      " 10  RESP_COURSE               object        \n",
      " 11  RESP_FIELDOFSTUDY         float64       \n",
      " 12  RESP_IMPORT_BATCH         float64       \n",
      " 13  RESP_FORM_KEY             object        \n",
      " 14  RESP_DMG_GENDER           object        \n",
      " 15  RESP_DMG_AGE              float64       \n",
      " 16  RESP_DMG_INDIGENOUS       object        \n",
      " 17  RESP_DMG_COB              object        \n",
      " 18  RESP_DMG_CITIZEN          object        \n",
      " 19  RESP_DMG_LANGUAGE         object        \n",
      " 20  RESP_DMG_HOME             object        \n",
      " 21  RESP_DMG_TERM             object        \n",
      " 22  RESP_DMG_SES              object        \n",
      " 23  RESP_DMG_BASIS_OF_ADM     float64       \n",
      " 24  RESP_DMG_LIABILITY_CAT    object        \n",
      " 25  RESP_DMG_INT_ATTEND_TYPE  object        \n",
      " 26  RESP_DMG_COMMENCING       object        \n",
      " 27  RESP_DMG_COURSE_CAMPUS    object        \n",
      " 28  RESP_DMG_SP_ADM_SCHEME    object        \n",
      " 29  RESP_DMG_SCHOLARSHIP      float64       \n",
      " 30  RESP_DMG_MODE_OF_ATTEND   object        \n",
      " 31  RESP_DMG_SCHOOL_LEAVER    object        \n",
      " 32  RESP_DMG_UAC_PREFERENCE   float64       \n",
      " 33  RESP_DMG_ATAR_ON_ADM      float64       \n",
      " 34  RESP_DMG_PREVIOUS_CREDIT  float64       \n",
      " 35  RESP_DMG_PREVIOUS_INSTI   object        \n",
      " 36  RESP_DMG_STUDENT_COMM_YR  object        \n",
      " 37  RESP_DMG_GRAD_LVL         object        \n",
      " 38  RESP_STUDENT_ID_HASH      object        \n",
      " 39  RESP_COMMENT_HIDDEN       int64         \n",
      "dtypes: datetime64[ns](1), float64(10), int64(4), object(25)\n",
      "memory usage: 1.2+ GB\n"
     ]
    }
   ],
   "source": [
    "df.info()"
   ]
  },
  {
   "cell_type": "code",
   "execution_count": 41,
   "id": "d7070dae-1067-421b-94be-55cdf29365d3",
   "metadata": {},
   "outputs": [
    {
     "data": {
      "text/plain": [
       "239262    416\n",
       "Name: RESP_COMMENT, dtype: int64"
      ]
     },
     "execution_count": 41,
     "metadata": {},
     "output_type": "execute_result"
    }
   ],
   "source": [
    "df[df.RESP_ID==14148556].RESP_COMMENT.apply(len)"
   ]
  },
  {
   "cell_type": "code",
   "execution_count": 48,
   "id": "5e1eb4b1-3d3d-4f7b-baa5-1f1f6bdb7492",
   "metadata": {},
   "outputs": [],
   "source": [
    "df_inst = df.iloc[:,[0,4]]"
   ]
  },
  {
   "cell_type": "code",
   "execution_count": 51,
   "id": "2b9754a2-2430-4460-b31a-e28aced79c88",
   "metadata": {},
   "outputs": [
    {
     "data": {
      "text/plain": [
       "239262    I liked the practical nature of the subject. W...\n",
       "Name: RESP_COMMENT, dtype: object"
      ]
     },
     "execution_count": 51,
     "metadata": {},
     "output_type": "execute_result"
    }
   ],
   "source": [
    "df_inst[df_inst.RESP_ID==14148556].RESP_COMMENT"
   ]
  },
  {
   "cell_type": "code",
   "execution_count": 52,
   "id": "e3de89ff-cc04-481b-bd01-3d02fa0286c1",
   "metadata": {},
   "outputs": [
    {
     "name": "stdout",
     "output_type": "stream",
     "text": [
      "<class 'pandas.core.frame.DataFrame'>\n",
      "Int64Index: 3832164 entries, 0 to 530047\n",
      "Data columns (total 2 columns):\n",
      " #   Column        Dtype \n",
      "---  ------        ----- \n",
      " 0   RESP_ID       int64 \n",
      " 1   RESP_COMMENT  object\n",
      "dtypes: int64(1), object(1)\n",
      "memory usage: 87.7+ MB\n"
     ]
    }
   ],
   "source": [
    "df_inst.info()"
   ]
  },
  {
   "cell_type": "code",
   "execution_count": null,
   "id": "6d55a512-879f-49eb-b074-e0b6299d05a4",
   "metadata": {},
   "outputs": [],
   "source": [
    "database_username=input(\"SQL login:\")"
   ]
  },
  {
   "cell_type": "code",
   "execution_count": null,
   "id": "730ca888-be2a-41ec-9373-98d519a68280",
   "metadata": {},
   "outputs": [],
   "source": [
    "database_password=getpass.getpass(\"Password:\")"
   ]
  },
  {
   "cell_type": "code",
   "execution_count": 58,
   "id": "365100ea-c395-43c8-8d9d-481aa639493e",
   "metadata": {},
   "outputs": [],
   "source": [
    "# Import dataframe into MySQL\n",
    "import sqlalchemy\n",
    "database_ip       = '127.0.0.1'\n",
    "database_name     = 'DAI_Survey_EDA'\n",
    "database_connection = sqlalchemy.create_engine('mssql://{0}:{1}@{2}:1433/{3}?DRIVER=SQL+Server+Native+Client+11.0'.format(database_username, database_password, database_ip, database_name))"
   ]
  },
  {
   "cell_type": "code",
   "execution_count": 53,
   "id": "3650e28c-0749-47bd-89ed-bc3fbf6af4a7",
   "metadata": {},
   "outputs": [],
   "source": [
    "# Uncomment in order to execute data transfer\n",
    "# df_inst.to_sql(con=database_connection, name='Response_Comments', if_exists='append')"
   ]
  },
  {
   "cell_type": "code",
   "execution_count": 62,
   "id": "4dcfec60-3740-4607-8ae9-a613a7b1fc48",
   "metadata": {},
   "outputs": [],
   "source": [
    "df_rst = pd.read_sql('SELECT count(*) FROM [DAI_Survey_EDA].[dbo].[Response_Comments]',\n",
    "            database_connection\n",
    "                    )"
   ]
  },
  {
   "cell_type": "code",
   "execution_count": 63,
   "id": "d879385b-321d-4539-a7e9-bfe967c1d60c",
   "metadata": {},
   "outputs": [
    {
     "data": {
      "text/html": [
       "<div>\n",
       "<style scoped>\n",
       "    .dataframe tbody tr th:only-of-type {\n",
       "        vertical-align: middle;\n",
       "    }\n",
       "\n",
       "    .dataframe tbody tr th {\n",
       "        vertical-align: top;\n",
       "    }\n",
       "\n",
       "    .dataframe thead th {\n",
       "        text-align: right;\n",
       "    }\n",
       "</style>\n",
       "<table border=\"1\" class=\"dataframe\">\n",
       "  <thead>\n",
       "    <tr style=\"text-align: right;\">\n",
       "      <th></th>\n",
       "      <th></th>\n",
       "    </tr>\n",
       "  </thead>\n",
       "  <tbody>\n",
       "    <tr>\n",
       "      <th>0</th>\n",
       "      <td>3832164</td>\n",
       "    </tr>\n",
       "  </tbody>\n",
       "</table>\n",
       "</div>"
      ],
      "text/plain": [
       "          \n",
       "0  3832164"
      ]
     },
     "execution_count": 63,
     "metadata": {},
     "output_type": "execute_result"
    }
   ],
   "source": [
    "df_rst"
   ]
  },
  {
   "cell_type": "code",
   "execution_count": null,
   "id": "43739427-5ddc-4d47-bace-34e94378b93c",
   "metadata": {},
   "outputs": [],
   "source": []
  }
 ],
 "metadata": {
  "kernelspec": {
   "display_name": "Python 3 (ipykernel)",
   "language": "python",
   "name": "python3"
  },
  "language_info": {
   "codemirror_mode": {
    "name": "ipython",
    "version": 3
   },
   "file_extension": ".py",
   "mimetype": "text/x-python",
   "name": "python",
   "nbconvert_exporter": "python",
   "pygments_lexer": "ipython3",
   "version": "3.9.7"
  }
 },
 "nbformat": 4,
 "nbformat_minor": 5
}
