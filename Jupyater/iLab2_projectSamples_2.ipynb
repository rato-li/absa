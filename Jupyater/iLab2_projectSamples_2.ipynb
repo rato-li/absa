{
 "cells": [
  {
   "cell_type": "markdown",
   "metadata": {
    "id": "GIi_Lm8fP4lZ",
    "pycharm": {
     "name": "#%% md\n"
    }
   },
   "source": [
    "# Aspect-based sentiment classification via [PyABSA](https://github.com/yangheng95/PyABSA)\n",
    "More usages see [here](https://github.com/yangheng95/PyABSA/tree/release/demos/aspect_polarity_classification)"
   ]
  },
  {
   "cell_type": "raw",
   "metadata": {
    "colab": {
     "base_uri": "https://localhost:8080/"
    },
    "executionInfo": {
     "elapsed": 18768,
     "status": "ok",
     "timestamp": 1649925925423,
     "user": {
      "displayName": "Heng Yang",
      "userId": "03656317274743782585"
     },
     "user_tz": -60
    },
    "id": "u9qtNy3ePgzd",
    "outputId": "33d401cd-33a0-497b-e45e-bc9ef2733be3",
    "pycharm": {
     "name": "#%%\n"
    }
   },
   "source": [
    "@misc{YangL2022,\n",
    "  title = {PyABSA: Open Framework for Aspect-based Sentiment Analysis},\n",
    "  author = {Yang, Heng and Li, Ke},\n",
    "  doi = {10.48550/ARXIV.2208.01368},\n",
    "  url = {https://arxiv.org/abs/2208.01368},\n",
    "  keywords = {Computation and Language (cs.CL), FOS: Computer and information sciences, FOS: Computer and information sciences},\n",
    "  publisher = {arXiv},\n",
    "  year = {2022},\n",
    "  copyright = {arXiv.org perpetual, non-exclusive license}\n",
    "}"
   ]
  },
  {
   "cell_type": "markdown",
   "metadata": {},
   "source": [
    "## Other References to PyABSA\n",
    "```\n",
    "https://www.youtube.com/watch?v=-UEU-HGjUyQ\n",
    "```"
   ]
  },
  {
   "cell_type": "markdown",
   "metadata": {},
   "source": [
    "# iLab2 Survey Comment - Inference Examples"
   ]
  },
  {
   "cell_type": "markdown",
   "metadata": {},
   "source": [
    "## Checking Available Checkpoints\n",
    "### PyABSA will check the latest available checkpoints before and load the latest checkpoint from Google Drive. To view available checkpoints, you can use the following code and load the checkpoint by name:"
   ]
  },
  {
   "cell_type": "code",
   "execution_count": 1,
   "metadata": {},
   "outputs": [
    {
     "name": "stdout",
     "output_type": "stream",
     "text": [
      "This script could only be used to manage NVIDIA GPUs,but no GPU found in your device\n"
     ]
    },
    {
     "name": "stderr",
     "output_type": "stream",
     "text": [
      "C:\\Users\\mango\\Anaconda3\\lib\\site-packages\\fontTools\\misc\\py23.py:11: DeprecationWarning: The py23 module has been deprecated and will be removed in a future release. Please update your code.\n",
      "  warnings.warn(\n"
     ]
    },
    {
     "name": "stdout",
     "output_type": "stream",
     "text": [
      "Version 1.16.16 of pyabsa is outdated. Version 1.16.18 was released 3 days ago.\n",
      "\u001b[31mcheck release notes at https://github.com/yangheng95/PyABSA/blob/release/release-note.json\u001b[0m\n",
      "\u001b[33mThere may be some checkpoints available for early versions of PyABSA, see \u001b[0m\n"
     ]
    },
    {
     "name": "stderr",
     "output_type": "stream",
     "text": [
      "C:\\Users\\mango\\Anaconda3\\lib\\site-packages\\pyabsa\\functional\\checkpoint\\checkpoint_manager.py:298: DeprecationWarning: distutils Version classes are deprecated. Use packaging.version instead.\n",
      "  if max_ver == 'N.A.' or StrictVersion(min_ver) <= StrictVersion(__version__) <= StrictVersion(max_ver):\n"
     ]
    }
   ],
   "source": [
    "from pyabsa import available_checkpoints\n",
    "\n",
    "# The results of available_checkpoints() depend on the PyABSA version\n",
    "checkpoint_map = available_checkpoints()  # show available checkpoints of PyABSA of current version "
   ]
  },
  {
   "cell_type": "markdown",
   "metadata": {},
   "source": [
    "## Perform aspect term detection and then predict sentiment"
   ]
  },
  {
   "cell_type": "code",
   "execution_count": 2,
   "metadata": {},
   "outputs": [],
   "source": [
    "import pandas as pd\n",
    "import numpy as np"
   ]
  },
  {
   "cell_type": "code",
   "execution_count": 3,
   "metadata": {
    "tags": []
   },
   "outputs": [],
   "source": [
    "df_comments = pd.read_csv('Data/Response_Comments_Metrics.csv')\n"
   ]
  },
  {
   "cell_type": "code",
   "execution_count": 4,
   "metadata": {},
   "outputs": [
    {
     "name": "stdout",
     "output_type": "stream",
     "text": [
      "<class 'pandas.core.frame.DataFrame'>\n",
      "RangeIndex: 385708 entries, 0 to 385707\n",
      "Data columns (total 9 columns):\n",
      " #   Column          Non-Null Count   Dtype  \n",
      "---  ------          --------------   -----  \n",
      " 0   RESP_ID         385708 non-null  int64  \n",
      " 1   RESP_SURVEY_ID  385708 non-null  int64  \n",
      " 2   RESP_Q_ID       385708 non-null  int64  \n",
      " 3   RESP_POINTS     66641 non-null   float64\n",
      " 4   resp_len        385708 non-null  int64  \n",
      " 5   avg_word_len    385708 non-null  float64\n",
      " 6   max_word_len    385708 non-null  int64  \n",
      " 7   word_count      385708 non-null  int64  \n",
      " 8   RESP_COMMENT    385708 non-null  object \n",
      "dtypes: float64(2), int64(6), object(1)\n",
      "memory usage: 26.5+ MB\n"
     ]
    }
   ],
   "source": [
    "df_comments.info()"
   ]
  },
  {
   "cell_type": "code",
   "execution_count": null,
   "metadata": {
    "scrolled": true,
    "tags": []
   },
   "outputs": [],
   "source": [
    "from pyabsa.functional import ABSADatasetList\n",
    "from pyabsa.functional import ATEPCCheckpointManager\n",
    "\n",
    "df_comments = pd.read_csv('Data/Response_Comments_Metrics.csv')\n",
    "\n",
    "df_comments.RESP_COMMENT = df_comments.RESP_ID.astype(str) + ' ' + df_comments.RESP_COMMENT\n",
    "inference_source = list(df_comments.RESP_COMMENT[(df_comments.word_count>1) & (df_comments.word_count<11) & (df_comments.resp_len>df_comments.word_count)])\n",
    "# inference_source = list(df_comments.RESP_COMMENT[(df_comments.word_count>10) & (df_comments.word_count<21) & (df_comments.resp_len>df_comments.word_count)])\n",
    "aspect_extractor = ATEPCCheckpointManager.get_aspect_extractor(checkpoint='multilingual-256-2')\n",
    "atepc_result = aspect_extractor.extract_aspect(\n",
    "    inference_source=inference_source,\n",
    "    save_result=True,\n",
    "    # print_result=True,  # print the result\n",
    "    pred_sentiment=True,  # Predict the sentiment of extracted aspect terms\n",
    ")"
   ]
  },
  {
   "cell_type": "code",
   "execution_count": 46,
   "metadata": {},
   "outputs": [
    {
     "data": {
      "text/plain": [
       "50867"
      ]
     },
     "execution_count": 46,
     "metadata": {},
     "output_type": "execute_result"
    }
   ],
   "source": [
    "len(atepc_result)"
   ]
  },
  {
   "cell_type": "code",
   "execution_count": null,
   "metadata": {},
   "outputs": [],
   "source": [
    "database_username=input(\"SQL login:\")"
   ]
  },
  {
   "cell_type": "code",
   "execution_count": null,
   "metadata": {},
   "outputs": [],
   "source": [
    "import matplotlib.pyplot as plt\n",
    "import getpass\n",
    "database_password=getpass.getpass(\"Password:\")"
   ]
  },
  {
   "cell_type": "code",
   "execution_count": 56,
   "metadata": {},
   "outputs": [
    {
     "name": "stderr",
     "output_type": "stream",
     "text": [
      "C:\\Users\\mango\\AppData\\Local\\Temp\\ipykernel_712\\497302417.py:5: SAWarning: No driver name specified; this is expected by PyODBC when using DSN-less connections\n",
      "  database_connection = sqlalchemy.create_engine('mssql://{0}:{1}@{2}:1433/{3}?DRIVER=SQL+Server+Native+Client+11.0'.format(database_username, database_password, database_ip, database_name))\n"
     ]
    }
   ],
   "source": [
    "# Import dataframe into MySQL\n",
    "import sqlalchemy\n",
    "database_ip       = '192.168.1.142'\n",
    "database_name     = 'DAI_Survey_EDA'\n",
    "database_connection = sqlalchemy.create_engine('mssql://{0}:{1}@{2}:1433/{3}?DRIVER=SQL+Server+Native+Client+11.0'.format(database_username, database_password, database_ip, database_name))"
   ]
  },
  {
   "cell_type": "code",
   "execution_count": 58,
   "metadata": {
    "scrolled": true,
    "tags": []
   },
   "outputs": [],
   "source": [
    "df_out = pd.DataFrame({'resp_id':[],'aspect':[],'sentiment':[],'confidence':[]})\n",
    "df_comment = pd.DataFrame({'resp_id':[],'fmt_comment':[]})\n",
    "\n",
    "for ex_id, result in enumerate(atepc_result):\n",
    "    resp_id, comment = result['sentence'].split(' ', 1)\n",
    "    text_printing = comment  # result['sentence']\n",
    "    for i in range(len(result['aspect'])):\n",
    "            if result['sentiment'][i] == 'Negative':\n",
    "                # aspect_info = '<b>{}&nbsp;</b><span style=\"background-color:Tomato;\">{}({})</span>'.format(\n",
    "                aspect_info = '<b>{}&nbsp;</b><span style=\"background-color:Tomato;\">({})</span>'.format(\n",
    "                    result['aspect'][i],\n",
    "                    result['sentiment'][i],\n",
    "                    # round(result['confidence'][i], 3),\n",
    "                )\n",
    "            elif result['sentiment'][i] == 'Neutral':\n",
    "                aspect_info = '<b>{}&nbsp;</b><span style=\"background-color:Yellow;\">({})</span>'.format(\n",
    "                    result['aspect'][i],\n",
    "                    result['sentiment'][i],\n",
    "                    # round(result['confidence'][i], 3),\n",
    "                )\n",
    "            else:\n",
    "                aspect_info = '<b>{}&nbsp;</b><span style=\"background-color:#98fb98;\">({})</span>'.format(\n",
    "                    result['aspect'][i],\n",
    "                    result['sentiment'][i],\n",
    "                    # round(result['confidence'][i], 3),\n",
    "                )\n",
    "\n",
    "            text_printing = text_printing.replace(result['aspect'][i], aspect_info)\n",
    "\n",
    "            dict_out = {'resp_id': [resp_id], 'aspect': [result['aspect'][i]], 'sentiment':[result['sentiment'][i]], 'confidence':[result['confidence'][i]]}\n",
    "            # df_out = df_out.append(pd.DataFrame(dict_out))\n",
    "            # df_out = pd.concat([df_out, pd.DataFrame(dict_out)], axis=0)\n",
    "            df_out = pd.DataFrame(dict_out)\n",
    "            df_out.to_sql(con=database_connection, name='df_out', if_exists='append', index=False)\n",
    "    # df_comment = df_comment.append(pd.DataFrame({'resp_id':[resp_id], 'fmt_comment':[text_printing]}))\n",
    "    # df_comment = pd.concat([df_comment, pd.DataFrame({'resp_id':[resp_id], 'fmt_comment':[text_printing]})], axis=0)\n",
    "    df_comment = pd.DataFrame({'resp_id':[resp_id], 'fmt_comment':[text_printing[0:4000]]})\n",
    "    df_comment.to_sql(con=database_connection, name='fmt_comment', if_exists='append', index=False)\n",
    "#     if len(df_out) == 500:\n",
    "#         # write to CSVs\n",
    "#         df_out.to_csv('output/absa_{}.csv'.format(resp_id),          # Export pandas DataFrame as CSV\n",
    "#                     header = True\n",
    "#                     ,index = False)\n",
    "#         df_comment.to_csv('output/fmt_comment_{}.csv'.format(resp_id),          # Export pandas DataFrame as CSV\n",
    "#                         header = True\n",
    "#                         ,index = False)\n",
    "#         df_out = pd.DataFrame({'resp_id':[],'aspect':[],'sentiment':[],'confidence':[]})\n",
    "#         df_comment = pd.DataFrame({'resp_id':[],'fmt_comment':[]})\n",
    "        \n",
    "\n",
    "# # Write last batch\n",
    "# if len(df_out) < 500:\n",
    "#     # write to CSVs\n",
    "#     df_out.to_csv('output/absa_{}.csv'.format(resp_id),          # Export pandas DataFrame as CSV\n",
    "#                 header = True\n",
    "#                 ,index = False)\n",
    "#     df_comment.to_csv('output/fmt_comment_{}.csv'.format(resp_id),          # Export pandas DataFrame as CSV\n",
    "#                     header = True\n",
    "#                     ,index = False)"
   ]
  },
  {
   "cell_type": "code",
   "execution_count": 52,
   "metadata": {},
   "outputs": [
    {
     "data": {
      "text/plain": [
       "3999"
      ]
     },
     "execution_count": 52,
     "metadata": {},
     "output_type": "execute_result"
    }
   ],
   "source": [
    "len(text_printing[0:3999])"
   ]
  },
  {
   "cell_type": "code",
   "execution_count": 54,
   "metadata": {},
   "outputs": [
    {
     "data": {
      "text/plain": [
       "50867"
      ]
     },
     "execution_count": 54,
     "metadata": {},
     "output_type": "execute_result"
    }
   ],
   "source": [
    "len(atepc_result)"
   ]
  },
  {
   "cell_type": "code",
   "execution_count": 32,
   "metadata": {},
   "outputs": [
    {
     "data": {
      "text/html": [
       "<div>\n",
       "<style scoped>\n",
       "    .dataframe tbody tr th:only-of-type {\n",
       "        vertical-align: middle;\n",
       "    }\n",
       "\n",
       "    .dataframe tbody tr th {\n",
       "        vertical-align: top;\n",
       "    }\n",
       "\n",
       "    .dataframe thead th {\n",
       "        text-align: right;\n",
       "    }\n",
       "</style>\n",
       "<table border=\"1\" class=\"dataframe\">\n",
       "  <thead>\n",
       "    <tr style=\"text-align: right;\">\n",
       "      <th></th>\n",
       "      <th>resp_id</th>\n",
       "      <th>aspect</th>\n",
       "      <th>sentiment</th>\n",
       "      <th>confidence</th>\n",
       "    </tr>\n",
       "  </thead>\n",
       "  <tbody>\n",
       "    <tr>\n",
       "      <th>0</th>\n",
       "      <td>22675154</td>\n",
       "      <td>sessions</td>\n",
       "      <td>Positive</td>\n",
       "      <td>0.999886</td>\n",
       "    </tr>\n",
       "  </tbody>\n",
       "</table>\n",
       "</div>"
      ],
      "text/plain": [
       "    resp_id    aspect sentiment  confidence\n",
       "0  22675154  sessions  Positive    0.999886"
      ]
     },
     "execution_count": 32,
     "metadata": {},
     "output_type": "execute_result"
    }
   ],
   "source": [
    "df_out"
   ]
  },
  {
   "cell_type": "markdown",
   "metadata": {},
   "source": [
    "## Reproduce fmt_comment file with different formatting"
   ]
  },
  {
   "cell_type": "code",
   "execution_count": 6,
   "metadata": {
    "tags": []
   },
   "outputs": [],
   "source": [
    "import pandas as pd\n",
    "import numpy as np\n",
    "\n",
    "df_comments = pd.read_csv('Data/Response_Comments_Metrics.csv')"
   ]
  },
  {
   "cell_type": "code",
   "execution_count": 7,
   "metadata": {
    "tags": []
   },
   "outputs": [],
   "source": [
    "df_aspects = pd.read_csv('output/absa_dummy_01.csv', delimiter='\\t')"
   ]
  },
  {
   "cell_type": "code",
   "execution_count": null,
   "metadata": {},
   "outputs": [],
   "source": [
    "database_username=input(\"SQL login:\")"
   ]
  },
  {
   "cell_type": "code",
   "execution_count": null,
   "metadata": {},
   "outputs": [],
   "source": [
    "import matplotlib.pyplot as plt\n",
    "import getpass\n",
    "database_password=getpass.getpass(\"Password:\")"
   ]
  },
  {
   "cell_type": "code",
   "execution_count": 10,
   "metadata": {
    "tags": []
   },
   "outputs": [
    {
     "name": "stderr",
     "output_type": "stream",
     "text": [
      "C:\\Users\\mango\\AppData\\Local\\Temp/ipykernel_18296/497302417.py:5: SAWarning: No driver name specified; this is expected by PyODBC when using DSN-less connections\n",
      "  database_connection = sqlalchemy.create_engine('mssql://{0}:{1}@{2}:1433/{3}?DRIVER=SQL+Server+Native+Client+11.0'.format(database_username, database_password, database_ip, database_name))\n"
     ]
    }
   ],
   "source": [
    "# Import dataframe into MySQL\n",
    "import sqlalchemy\n",
    "database_ip       = '192.168.1.142'\n",
    "database_name     = 'DAI_Survey_EDA'\n",
    "database_connection = sqlalchemy.create_engine('mssql://{0}:{1}@{2}:1433/{3}?DRIVER=SQL+Server+Native+Client+11.0'.format(database_username, database_password, database_ip, database_name))"
   ]
  },
  {
   "cell_type": "code",
   "execution_count": 11,
   "metadata": {},
   "outputs": [
    {
     "data": {
      "text/html": [
       "<div>\n",
       "<style scoped>\n",
       "    .dataframe tbody tr th:only-of-type {\n",
       "        vertical-align: middle;\n",
       "    }\n",
       "\n",
       "    .dataframe tbody tr th {\n",
       "        vertical-align: top;\n",
       "    }\n",
       "\n",
       "    .dataframe thead th {\n",
       "        text-align: right;\n",
       "    }\n",
       "</style>\n",
       "<table border=\"1\" class=\"dataframe\">\n",
       "  <thead>\n",
       "    <tr style=\"text-align: right;\">\n",
       "      <th></th>\n",
       "      <th>RESP_ID</th>\n",
       "      <th>RESP_SURVEY_ID</th>\n",
       "      <th>RESP_Q_ID</th>\n",
       "      <th>RESP_POINTS</th>\n",
       "      <th>resp_len</th>\n",
       "      <th>avg_word_len</th>\n",
       "      <th>max_word_len</th>\n",
       "      <th>word_count</th>\n",
       "      <th>RESP_COMMENT</th>\n",
       "    </tr>\n",
       "  </thead>\n",
       "  <tbody>\n",
       "    <tr>\n",
       "      <th>0</th>\n",
       "      <td>13926609</td>\n",
       "      <td>164973</td>\n",
       "      <td>1053</td>\n",
       "      <td>NaN</td>\n",
       "      <td>90</td>\n",
       "      <td>6.0</td>\n",
       "      <td>11</td>\n",
       "      <td>13</td>\n",
       "      <td>Learning new experiences with animation and te...</td>\n",
       "    </tr>\n",
       "    <tr>\n",
       "      <th>1</th>\n",
       "      <td>13926622</td>\n",
       "      <td>164973</td>\n",
       "      <td>3131</td>\n",
       "      <td>4.0</td>\n",
       "      <td>102</td>\n",
       "      <td>4.0</td>\n",
       "      <td>10</td>\n",
       "      <td>19</td>\n",
       "      <td>I learned a lot of new techniques and had expe...</td>\n",
       "    </tr>\n",
       "    <tr>\n",
       "      <th>2</th>\n",
       "      <td>13926628</td>\n",
       "      <td>164973</td>\n",
       "      <td>3707</td>\n",
       "      <td>3.0</td>\n",
       "      <td>132</td>\n",
       "      <td>5.0</td>\n",
       "      <td>13</td>\n",
       "      <td>22</td>\n",
       "      <td>Goals of immersion and data visualisation were...</td>\n",
       "    </tr>\n",
       "    <tr>\n",
       "      <th>3</th>\n",
       "      <td>14109824</td>\n",
       "      <td>187612</td>\n",
       "      <td>1053</td>\n",
       "      <td>NaN</td>\n",
       "      <td>125</td>\n",
       "      <td>4.5</td>\n",
       "      <td>11</td>\n",
       "      <td>22</td>\n",
       "      <td>The interaction between each of my classmate. ...</td>\n",
       "    </tr>\n",
       "    <tr>\n",
       "      <th>4</th>\n",
       "      <td>13926629</td>\n",
       "      <td>164973</td>\n",
       "      <td>3708</td>\n",
       "      <td>4.0</td>\n",
       "      <td>46</td>\n",
       "      <td>4.5</td>\n",
       "      <td>9</td>\n",
       "      <td>8</td>\n",
       "      <td>Came in everyday, very happy with group effort</td>\n",
       "    </tr>\n",
       "  </tbody>\n",
       "</table>\n",
       "</div>"
      ],
      "text/plain": [
       "    RESP_ID  RESP_SURVEY_ID  RESP_Q_ID  RESP_POINTS  resp_len  avg_word_len  \\\n",
       "0  13926609          164973       1053          NaN        90           6.0   \n",
       "1  13926622          164973       3131          4.0       102           4.0   \n",
       "2  13926628          164973       3707          3.0       132           5.0   \n",
       "3  14109824          187612       1053          NaN       125           4.5   \n",
       "4  13926629          164973       3708          4.0        46           4.5   \n",
       "\n",
       "   max_word_len  word_count                                       RESP_COMMENT  \n",
       "0            11          13  Learning new experiences with animation and te...  \n",
       "1            10          19  I learned a lot of new techniques and had expe...  \n",
       "2            13          22  Goals of immersion and data visualisation were...  \n",
       "3            11          22  The interaction between each of my classmate. ...  \n",
       "4             9           8     Came in everyday, very happy with group effort  "
      ]
     },
     "execution_count": 11,
     "metadata": {},
     "output_type": "execute_result"
    }
   ],
   "source": [
    "df_comments.head()"
   ]
  },
  {
   "cell_type": "markdown",
   "metadata": {},
   "source": [
    "## Process df_aspects as JSON"
   ]
  },
  {
   "cell_type": "code",
   "execution_count": 13,
   "metadata": {
    "tags": []
   },
   "outputs": [],
   "source": [
    "json_aspects = df_aspects.groupby(['RESP_ID']) \\\n",
    "    .apply(lambda x: x[['aspect','sentiment']].to_dict('records')) \\\n",
    "    .reset_index() \\\n",
    "    .rename(columns={0:'asp_sent'}) \\\n",
    "    .to_json(orient='records')"
   ]
  },
  {
   "cell_type": "code",
   "execution_count": 14,
   "metadata": {
    "tags": []
   },
   "outputs": [],
   "source": [
    "import json\n",
    "\n",
    "j = json.loads(json_aspects)"
   ]
  },
  {
   "cell_type": "code",
   "execution_count": 16,
   "metadata": {
    "scrolled": true,
    "tags": []
   },
   "outputs": [],
   "source": [
    "for ex_id, result in enumerate(j):\n",
    "    resp_id = result['RESP_ID']\n",
    "    # print(resp_id)\n",
    "    text_printing = df_comments.loc[df_comments.RESP_ID==resp_id][['RESP_COMMENT']].values[0][0]\n",
    "    \n",
    "    for asp in enumerate(result['asp_sent']):\n",
    "        # print(asp[1]['aspect'], asp[1]['sentiment'])\n",
    "        \n",
    "        # for asp in df_aspects.itertuples():\n",
    "        # resp_id = asp.resp_id\n",
    "        if asp[1]['sentiment'] == 'Negative':\n",
    "            aspect_info = '<span style=\"background-color:Tomato;\"><b>{}&nbsp;</b></span>'.format(\n",
    "                asp[1]['aspect']\n",
    "            )\n",
    "        elif asp[1]['sentiment'] == 'Neutral':\n",
    "            aspect_info = '<span style=\"background-color:Yellow;\"><b>{}&nbsp;</b></span>'.format(\n",
    "                asp[1]['aspect']\n",
    "            )\n",
    "        else:\n",
    "            aspect_info = '<span style=\"background-color:#98fb98;\"><b>{}&nbsp;</b></span>'.format(\n",
    "                asp[1]['aspect']\n",
    "            )\n",
    "\n",
    "        text_printing = text_printing.replace(asp[1]['aspect'], aspect_info)\n",
    "\n",
    "    out_comments = pd.DataFrame({'resp_id':[resp_id], 'fmt_comment':[text_printing[0:4000]]})\n",
    "    # print(out_comments)\n",
    "    out_comments.to_sql(con=database_connection, name='fmt_comment', if_exists='append', index=False)"
   ]
  },
  {
   "cell_type": "code",
   "execution_count": 34,
   "metadata": {},
   "outputs": [
    {
     "data": {
      "text/html": [
       "<div>\n",
       "<style scoped>\n",
       "    .dataframe tbody tr th:only-of-type {\n",
       "        vertical-align: middle;\n",
       "    }\n",
       "\n",
       "    .dataframe tbody tr th {\n",
       "        vertical-align: top;\n",
       "    }\n",
       "\n",
       "    .dataframe thead th {\n",
       "        text-align: right;\n",
       "    }\n",
       "</style>\n",
       "<table border=\"1\" class=\"dataframe\">\n",
       "  <thead>\n",
       "    <tr style=\"text-align: right;\">\n",
       "      <th></th>\n",
       "      <th>resp_id</th>\n",
       "      <th>fmt_comment</th>\n",
       "    </tr>\n",
       "  </thead>\n",
       "  <tbody>\n",
       "    <tr>\n",
       "      <th>0</th>\n",
       "      <td>14123987</td>\n",
       "      <td>Ongoing marks and feedback for &lt;span style=\"ba...</td>\n",
       "    </tr>\n",
       "  </tbody>\n",
       "</table>\n",
       "</div>"
      ],
      "text/plain": [
       "    resp_id                                        fmt_comment\n",
       "0  14123987  Ongoing marks and feedback for <span style=\"ba..."
      ]
     },
     "execution_count": 34,
     "metadata": {},
     "output_type": "execute_result"
    }
   ],
   "source": [
    "out_comments.head()"
   ]
  },
  {
   "cell_type": "code",
   "execution_count": 32,
   "metadata": {
    "tags": []
   },
   "outputs": [
    {
     "data": {
      "text/plain": [
       "str"
      ]
     },
     "execution_count": 32,
     "metadata": {},
     "output_type": "execute_result"
    }
   ],
   "source": [
    "df_comments.loc[df_comments.RESP_ID==resp_id][['RESP_COMMENT']].values[0][0]"
   ]
  },
  {
   "cell_type": "code",
   "execution_count": null,
   "metadata": {
    "scrolled": true,
    "tags": []
   },
   "outputs": [],
   "source": [
    "j = json.loads(json_aspects)\n",
    "for ex_id, result in enumerate(j):\n",
    "    resp_id = result['resp_id']\n",
    "    print(resp_id)\n",
    "    for asp in enumerate(result['asp_sent']):\n",
    "        print(asp[1]['aspect'], asp[1]['sentiment'])"
   ]
  },
  {
   "cell_type": "code",
   "execution_count": 66,
   "metadata": {},
   "outputs": [
    {
     "name": "stderr",
     "output_type": "stream",
     "text": [
      "IOPub data rate exceeded.\n",
      "The Jupyter server will temporarily stop sending output\n",
      "to the client in order to avoid crashing it.\n",
      "To change this limit, set the config variable\n",
      "`--ServerApp.iopub_data_rate_limit`.\n",
      "\n",
      "Current values:\n",
      "ServerApp.iopub_data_rate_limit=1000000.0 (bytes/sec)\n",
      "ServerApp.rate_limit_window=3.0 (secs)\n",
      "\n"
     ]
    }
   ],
   "source": [
    "import json\n",
    "\n",
    "print(json.dumps(json.loads(json_aspects), indent=2, sort_keys=True))"
   ]
  },
  {
   "cell_type": "code",
   "execution_count": null,
   "metadata": {
    "scrolled": true,
    "tags": []
   },
   "outputs": [],
   "source": [
    "for ex_id, result in enumerate(json_aspects):\n",
    "    print(ex_id, result)"
   ]
  }
 ],
 "metadata": {
  "colab": {
   "authorship_tag": "ABX9TyM9Ycn8KfVSfPHZCSAjrU8x",
   "collapsed_sections": [],
   "name": "APC-USAGES.ipynb",
   "provenance": []
  },
  "kernelspec": {
   "display_name": "Python 3 (ipykernel)",
   "language": "python",
   "name": "python3"
  },
  "language_info": {
   "codemirror_mode": {
    "name": "ipython",
    "version": 3
   },
   "file_extension": ".py",
   "mimetype": "text/x-python",
   "name": "python",
   "nbconvert_exporter": "python",
   "pygments_lexer": "ipython3",
   "version": "3.9.7"
  },
  "widgets": {
   "application/vnd.jupyter.widget-state+json": {
    "08db866ea86145dc9f17c282ad42f468": {
     "model_module": "@jupyter-widgets/base",
     "model_module_version": "1.2.0",
     "model_name": "LayoutModel",
     "state": {
      "_model_module": "@jupyter-widgets/base",
      "_model_module_version": "1.2.0",
      "_model_name": "LayoutModel",
      "_view_count": null,
      "_view_module": "@jupyter-widgets/base",
      "_view_module_version": "1.2.0",
      "_view_name": "LayoutView",
      "align_content": null,
      "align_items": null,
      "align_self": null,
      "border": null,
      "bottom": null,
      "display": null,
      "flex": null,
      "flex_flow": null,
      "grid_area": null,
      "grid_auto_columns": null,
      "grid_auto_flow": null,
      "grid_auto_rows": null,
      "grid_column": null,
      "grid_gap": null,
      "grid_row": null,
      "grid_template_areas": null,
      "grid_template_columns": null,
      "grid_template_rows": null,
      "height": null,
      "justify_content": null,
      "justify_items": null,
      "left": null,
      "margin": null,
      "max_height": null,
      "max_width": null,
      "min_height": null,
      "min_width": null,
      "object_fit": null,
      "object_position": null,
      "order": null,
      "overflow": null,
      "overflow_x": null,
      "overflow_y": null,
      "padding": null,
      "right": null,
      "top": null,
      "visibility": null,
      "width": null
     }
    },
    "09143f6a137145218b004535f7b53162": {
     "model_module": "@jupyter-widgets/base",
     "model_module_version": "1.2.0",
     "model_name": "LayoutModel",
     "state": {
      "_model_module": "@jupyter-widgets/base",
      "_model_module_version": "1.2.0",
      "_model_name": "LayoutModel",
      "_view_count": null,
      "_view_module": "@jupyter-widgets/base",
      "_view_module_version": "1.2.0",
      "_view_name": "LayoutView",
      "align_content": null,
      "align_items": null,
      "align_self": null,
      "border": null,
      "bottom": null,
      "display": null,
      "flex": null,
      "flex_flow": null,
      "grid_area": null,
      "grid_auto_columns": null,
      "grid_auto_flow": null,
      "grid_auto_rows": null,
      "grid_column": null,
      "grid_gap": null,
      "grid_row": null,
      "grid_template_areas": null,
      "grid_template_columns": null,
      "grid_template_rows": null,
      "height": null,
      "justify_content": null,
      "justify_items": null,
      "left": null,
      "margin": null,
      "max_height": null,
      "max_width": null,
      "min_height": null,
      "min_width": null,
      "object_fit": null,
      "object_position": null,
      "order": null,
      "overflow": null,
      "overflow_x": null,
      "overflow_y": null,
      "padding": null,
      "right": null,
      "top": null,
      "visibility": null,
      "width": null
     }
    },
    "0acb10e310bf44ab97da705c7dbbb55d": {
     "model_module": "@jupyter-widgets/controls",
     "model_module_version": "1.5.0",
     "model_name": "DescriptionStyleModel",
     "state": {
      "_model_module": "@jupyter-widgets/controls",
      "_model_module_version": "1.5.0",
      "_model_name": "DescriptionStyleModel",
      "_view_count": null,
      "_view_module": "@jupyter-widgets/base",
      "_view_module_version": "1.2.0",
      "_view_name": "StyleView",
      "description_width": ""
     }
    },
    "135f969acfc84b2d99a642947c6cc5c9": {
     "model_module": "@jupyter-widgets/base",
     "model_module_version": "1.2.0",
     "model_name": "LayoutModel",
     "state": {
      "_model_module": "@jupyter-widgets/base",
      "_model_module_version": "1.2.0",
      "_model_name": "LayoutModel",
      "_view_count": null,
      "_view_module": "@jupyter-widgets/base",
      "_view_module_version": "1.2.0",
      "_view_name": "LayoutView",
      "align_content": null,
      "align_items": null,
      "align_self": null,
      "border": null,
      "bottom": null,
      "display": null,
      "flex": null,
      "flex_flow": null,
      "grid_area": null,
      "grid_auto_columns": null,
      "grid_auto_flow": null,
      "grid_auto_rows": null,
      "grid_column": null,
      "grid_gap": null,
      "grid_row": null,
      "grid_template_areas": null,
      "grid_template_columns": null,
      "grid_template_rows": null,
      "height": null,
      "justify_content": null,
      "justify_items": null,
      "left": null,
      "margin": null,
      "max_height": null,
      "max_width": null,
      "min_height": null,
      "min_width": null,
      "object_fit": null,
      "object_position": null,
      "order": null,
      "overflow": null,
      "overflow_x": null,
      "overflow_y": null,
      "padding": null,
      "right": null,
      "top": null,
      "visibility": null,
      "width": null
     }
    },
    "2244fed335e34297b6a72fa96e3e81e8": {
     "model_module": "@jupyter-widgets/base",
     "model_module_version": "1.2.0",
     "model_name": "LayoutModel",
     "state": {
      "_model_module": "@jupyter-widgets/base",
      "_model_module_version": "1.2.0",
      "_model_name": "LayoutModel",
      "_view_count": null,
      "_view_module": "@jupyter-widgets/base",
      "_view_module_version": "1.2.0",
      "_view_name": "LayoutView",
      "align_content": null,
      "align_items": null,
      "align_self": null,
      "border": null,
      "bottom": null,
      "display": null,
      "flex": null,
      "flex_flow": null,
      "grid_area": null,
      "grid_auto_columns": null,
      "grid_auto_flow": null,
      "grid_auto_rows": null,
      "grid_column": null,
      "grid_gap": null,
      "grid_row": null,
      "grid_template_areas": null,
      "grid_template_columns": null,
      "grid_template_rows": null,
      "height": null,
      "justify_content": null,
      "justify_items": null,
      "left": null,
      "margin": null,
      "max_height": null,
      "max_width": null,
      "min_height": null,
      "min_width": null,
      "object_fit": null,
      "object_position": null,
      "order": null,
      "overflow": null,
      "overflow_x": null,
      "overflow_y": null,
      "padding": null,
      "right": null,
      "top": null,
      "visibility": null,
      "width": null
     }
    },
    "2249bbb0516640e1929bb356b5a44826": {
     "model_module": "@jupyter-widgets/base",
     "model_module_version": "1.2.0",
     "model_name": "LayoutModel",
     "state": {
      "_model_module": "@jupyter-widgets/base",
      "_model_module_version": "1.2.0",
      "_model_name": "LayoutModel",
      "_view_count": null,
      "_view_module": "@jupyter-widgets/base",
      "_view_module_version": "1.2.0",
      "_view_name": "LayoutView",
      "align_content": null,
      "align_items": null,
      "align_self": null,
      "border": null,
      "bottom": null,
      "display": null,
      "flex": null,
      "flex_flow": null,
      "grid_area": null,
      "grid_auto_columns": null,
      "grid_auto_flow": null,
      "grid_auto_rows": null,
      "grid_column": null,
      "grid_gap": null,
      "grid_row": null,
      "grid_template_areas": null,
      "grid_template_columns": null,
      "grid_template_rows": null,
      "height": null,
      "justify_content": null,
      "justify_items": null,
      "left": null,
      "margin": null,
      "max_height": null,
      "max_width": null,
      "min_height": null,
      "min_width": null,
      "object_fit": null,
      "object_position": null,
      "order": null,
      "overflow": null,
      "overflow_x": null,
      "overflow_y": null,
      "padding": null,
      "right": null,
      "top": null,
      "visibility": null,
      "width": null
     }
    },
    "24ead256ebe34fb18c370569335474a6": {
     "model_module": "@jupyter-widgets/controls",
     "model_module_version": "1.5.0",
     "model_name": "DescriptionStyleModel",
     "state": {
      "_model_module": "@jupyter-widgets/controls",
      "_model_module_version": "1.5.0",
      "_model_name": "DescriptionStyleModel",
      "_view_count": null,
      "_view_module": "@jupyter-widgets/base",
      "_view_module_version": "1.2.0",
      "_view_name": "StyleView",
      "description_width": ""
     }
    },
    "2a6992ecb2b347478ff9054b99864a9a": {
     "model_module": "@jupyter-widgets/controls",
     "model_module_version": "1.5.0",
     "model_name": "FloatProgressModel",
     "state": {
      "_dom_classes": [],
      "_model_module": "@jupyter-widgets/controls",
      "_model_module_version": "1.5.0",
      "_model_name": "FloatProgressModel",
      "_view_count": null,
      "_view_module": "@jupyter-widgets/controls",
      "_view_module_version": "1.5.0",
      "_view_name": "ProgressView",
      "bar_style": "success",
      "description": "",
      "description_tooltip": null,
      "layout": "IPY_MODEL_7251d3c921ee481c89358ad015877640",
      "max": 52,
      "min": 0,
      "orientation": "horizontal",
      "style": "IPY_MODEL_9d71aa31abe14b8e97bf6d981b521585",
      "value": 52
     }
    },
    "30f99f9a5ce04211a558c7f7e66e74f7": {
     "model_module": "@jupyter-widgets/controls",
     "model_module_version": "1.5.0",
     "model_name": "HTMLModel",
     "state": {
      "_dom_classes": [],
      "_model_module": "@jupyter-widgets/controls",
      "_model_module_version": "1.5.0",
      "_model_name": "HTMLModel",
      "_view_count": null,
      "_view_module": "@jupyter-widgets/controls",
      "_view_module_version": "1.5.0",
      "_view_name": "HTMLView",
      "description": "",
      "description_tooltip": null,
      "layout": "IPY_MODEL_b333e3862db24c15b7cc17ffd18a0d8c",
      "placeholder": "​",
      "style": "IPY_MODEL_0acb10e310bf44ab97da705c7dbbb55d",
      "value": "Downloading: 100%"
     }
    },
    "32a3136cac92461e99ae3bb8510d4cbc": {
     "model_module": "@jupyter-widgets/controls",
     "model_module_version": "1.5.0",
     "model_name": "DescriptionStyleModel",
     "state": {
      "_model_module": "@jupyter-widgets/controls",
      "_model_module_version": "1.5.0",
      "_model_name": "DescriptionStyleModel",
      "_view_count": null,
      "_view_module": "@jupyter-widgets/base",
      "_view_module_version": "1.2.0",
      "_view_name": "StyleView",
      "description_width": ""
     }
    },
    "4597a0b9617e4b59909055c66908fb90": {
     "model_module": "@jupyter-widgets/controls",
     "model_module_version": "1.5.0",
     "model_name": "HTMLModel",
     "state": {
      "_dom_classes": [],
      "_model_module": "@jupyter-widgets/controls",
      "_model_module_version": "1.5.0",
      "_model_name": "HTMLModel",
      "_view_count": null,
      "_view_module": "@jupyter-widgets/controls",
      "_view_module_version": "1.5.0",
      "_view_name": "HTMLView",
      "description": "",
      "description_tooltip": null,
      "layout": "IPY_MODEL_2244fed335e34297b6a72fa96e3e81e8",
      "placeholder": "​",
      "style": "IPY_MODEL_24ead256ebe34fb18c370569335474a6",
      "value": "Downloading: 100%"
     }
    },
    "57d8f6cb2a134e28ab50763944e297fd": {
     "model_module": "@jupyter-widgets/controls",
     "model_module_version": "1.5.0",
     "model_name": "ProgressStyleModel",
     "state": {
      "_model_module": "@jupyter-widgets/controls",
      "_model_module_version": "1.5.0",
      "_model_name": "ProgressStyleModel",
      "_view_count": null,
      "_view_module": "@jupyter-widgets/base",
      "_view_module_version": "1.2.0",
      "_view_name": "StyleView",
      "bar_color": null,
      "description_width": ""
     }
    },
    "623150c20f0e418890da710a2e56263a": {
     "model_module": "@jupyter-widgets/controls",
     "model_module_version": "1.5.0",
     "model_name": "HBoxModel",
     "state": {
      "_dom_classes": [],
      "_model_module": "@jupyter-widgets/controls",
      "_model_module_version": "1.5.0",
      "_model_name": "HBoxModel",
      "_view_count": null,
      "_view_module": "@jupyter-widgets/controls",
      "_view_module_version": "1.5.0",
      "_view_name": "HBoxView",
      "box_style": "",
      "children": [
       "IPY_MODEL_c23a3b90a2e24c16bb7069e5373cdff8",
       "IPY_MODEL_d5474345449e429681eaa7a7d7d86563",
       "IPY_MODEL_b4d5ebe8ee3e4bd7a4b473401a6d77a7"
      ],
      "layout": "IPY_MODEL_08db866ea86145dc9f17c282ad42f468"
     }
    },
    "62ac6679f92c484b9204453ed5c99e73": {
     "model_module": "@jupyter-widgets/controls",
     "model_module_version": "1.5.0",
     "model_name": "HBoxModel",
     "state": {
      "_dom_classes": [],
      "_model_module": "@jupyter-widgets/controls",
      "_model_module_version": "1.5.0",
      "_model_name": "HBoxModel",
      "_view_count": null,
      "_view_module": "@jupyter-widgets/controls",
      "_view_module_version": "1.5.0",
      "_view_name": "HBoxView",
      "box_style": "",
      "children": [
       "IPY_MODEL_ccbcd126e6e24440820eeecb9ca9d5c7",
       "IPY_MODEL_ee35ac9c3d9a458cbe51ee88dc29db0f",
       "IPY_MODEL_f194f74dbce2497f89299e274733c8c6"
      ],
      "layout": "IPY_MODEL_9566e6eff1c542e5aa7cd4191d7bbc04"
     }
    },
    "69477badcd1f4988a93e752b9eb65468": {
     "model_module": "@jupyter-widgets/base",
     "model_module_version": "1.2.0",
     "model_name": "LayoutModel",
     "state": {
      "_model_module": "@jupyter-widgets/base",
      "_model_module_version": "1.2.0",
      "_model_name": "LayoutModel",
      "_view_count": null,
      "_view_module": "@jupyter-widgets/base",
      "_view_module_version": "1.2.0",
      "_view_name": "LayoutView",
      "align_content": null,
      "align_items": null,
      "align_self": null,
      "border": null,
      "bottom": null,
      "display": null,
      "flex": null,
      "flex_flow": null,
      "grid_area": null,
      "grid_auto_columns": null,
      "grid_auto_flow": null,
      "grid_auto_rows": null,
      "grid_column": null,
      "grid_gap": null,
      "grid_row": null,
      "grid_template_areas": null,
      "grid_template_columns": null,
      "grid_template_rows": null,
      "height": null,
      "justify_content": null,
      "justify_items": null,
      "left": null,
      "margin": null,
      "max_height": null,
      "max_width": null,
      "min_height": null,
      "min_width": null,
      "object_fit": null,
      "object_position": null,
      "order": null,
      "overflow": null,
      "overflow_x": null,
      "overflow_y": null,
      "padding": null,
      "right": null,
      "top": null,
      "visibility": null,
      "width": null
     }
    },
    "69cdcd216a0f4473a413e2a8a55c7f42": {
     "model_module": "@jupyter-widgets/controls",
     "model_module_version": "1.5.0",
     "model_name": "ProgressStyleModel",
     "state": {
      "_model_module": "@jupyter-widgets/controls",
      "_model_module_version": "1.5.0",
      "_model_name": "ProgressStyleModel",
      "_view_count": null,
      "_view_module": "@jupyter-widgets/base",
      "_view_module_version": "1.2.0",
      "_view_name": "StyleView",
      "bar_color": null,
      "description_width": ""
     }
    },
    "7251d3c921ee481c89358ad015877640": {
     "model_module": "@jupyter-widgets/base",
     "model_module_version": "1.2.0",
     "model_name": "LayoutModel",
     "state": {
      "_model_module": "@jupyter-widgets/base",
      "_model_module_version": "1.2.0",
      "_model_name": "LayoutModel",
      "_view_count": null,
      "_view_module": "@jupyter-widgets/base",
      "_view_module_version": "1.2.0",
      "_view_name": "LayoutView",
      "align_content": null,
      "align_items": null,
      "align_self": null,
      "border": null,
      "bottom": null,
      "display": null,
      "flex": null,
      "flex_flow": null,
      "grid_area": null,
      "grid_auto_columns": null,
      "grid_auto_flow": null,
      "grid_auto_rows": null,
      "grid_column": null,
      "grid_gap": null,
      "grid_row": null,
      "grid_template_areas": null,
      "grid_template_columns": null,
      "grid_template_rows": null,
      "height": null,
      "justify_content": null,
      "justify_items": null,
      "left": null,
      "margin": null,
      "max_height": null,
      "max_width": null,
      "min_height": null,
      "min_width": null,
      "object_fit": null,
      "object_position": null,
      "order": null,
      "overflow": null,
      "overflow_x": null,
      "overflow_y": null,
      "padding": null,
      "right": null,
      "top": null,
      "visibility": null,
      "width": null
     }
    },
    "78d87bfa1d5a494e84a782f98f1103a3": {
     "model_module": "@jupyter-widgets/controls",
     "model_module_version": "1.5.0",
     "model_name": "DescriptionStyleModel",
     "state": {
      "_model_module": "@jupyter-widgets/controls",
      "_model_module_version": "1.5.0",
      "_model_name": "DescriptionStyleModel",
      "_view_count": null,
      "_view_module": "@jupyter-widgets/base",
      "_view_module_version": "1.2.0",
      "_view_name": "StyleView",
      "description_width": ""
     }
    },
    "870a0e506e8e404ca21bacdc3d98565d": {
     "model_module": "@jupyter-widgets/base",
     "model_module_version": "1.2.0",
     "model_name": "LayoutModel",
     "state": {
      "_model_module": "@jupyter-widgets/base",
      "_model_module_version": "1.2.0",
      "_model_name": "LayoutModel",
      "_view_count": null,
      "_view_module": "@jupyter-widgets/base",
      "_view_module_version": "1.2.0",
      "_view_name": "LayoutView",
      "align_content": null,
      "align_items": null,
      "align_self": null,
      "border": null,
      "bottom": null,
      "display": null,
      "flex": null,
      "flex_flow": null,
      "grid_area": null,
      "grid_auto_columns": null,
      "grid_auto_flow": null,
      "grid_auto_rows": null,
      "grid_column": null,
      "grid_gap": null,
      "grid_row": null,
      "grid_template_areas": null,
      "grid_template_columns": null,
      "grid_template_rows": null,
      "height": null,
      "justify_content": null,
      "justify_items": null,
      "left": null,
      "margin": null,
      "max_height": null,
      "max_width": null,
      "min_height": null,
      "min_width": null,
      "object_fit": null,
      "object_position": null,
      "order": null,
      "overflow": null,
      "overflow_x": null,
      "overflow_y": null,
      "padding": null,
      "right": null,
      "top": null,
      "visibility": null,
      "width": null
     }
    },
    "876032b4c94945f0bf9bfc14334e65b9": {
     "model_module": "@jupyter-widgets/controls",
     "model_module_version": "1.5.0",
     "model_name": "DescriptionStyleModel",
     "state": {
      "_model_module": "@jupyter-widgets/controls",
      "_model_module_version": "1.5.0",
      "_model_name": "DescriptionStyleModel",
      "_view_count": null,
      "_view_module": "@jupyter-widgets/base",
      "_view_module_version": "1.2.0",
      "_view_name": "StyleView",
      "description_width": ""
     }
    },
    "9566e6eff1c542e5aa7cd4191d7bbc04": {
     "model_module": "@jupyter-widgets/base",
     "model_module_version": "1.2.0",
     "model_name": "LayoutModel",
     "state": {
      "_model_module": "@jupyter-widgets/base",
      "_model_module_version": "1.2.0",
      "_model_name": "LayoutModel",
      "_view_count": null,
      "_view_module": "@jupyter-widgets/base",
      "_view_module_version": "1.2.0",
      "_view_name": "LayoutView",
      "align_content": null,
      "align_items": null,
      "align_self": null,
      "border": null,
      "bottom": null,
      "display": null,
      "flex": null,
      "flex_flow": null,
      "grid_area": null,
      "grid_auto_columns": null,
      "grid_auto_flow": null,
      "grid_auto_rows": null,
      "grid_column": null,
      "grid_gap": null,
      "grid_row": null,
      "grid_template_areas": null,
      "grid_template_columns": null,
      "grid_template_rows": null,
      "height": null,
      "justify_content": null,
      "justify_items": null,
      "left": null,
      "margin": null,
      "max_height": null,
      "max_width": null,
      "min_height": null,
      "min_width": null,
      "object_fit": null,
      "object_position": null,
      "order": null,
      "overflow": null,
      "overflow_x": null,
      "overflow_y": null,
      "padding": null,
      "right": null,
      "top": null,
      "visibility": null,
      "width": null
     }
    },
    "9cf56d987fa344879caa7e9b6a601d8a": {
     "model_module": "@jupyter-widgets/base",
     "model_module_version": "1.2.0",
     "model_name": "LayoutModel",
     "state": {
      "_model_module": "@jupyter-widgets/base",
      "_model_module_version": "1.2.0",
      "_model_name": "LayoutModel",
      "_view_count": null,
      "_view_module": "@jupyter-widgets/base",
      "_view_module_version": "1.2.0",
      "_view_name": "LayoutView",
      "align_content": null,
      "align_items": null,
      "align_self": null,
      "border": null,
      "bottom": null,
      "display": null,
      "flex": null,
      "flex_flow": null,
      "grid_area": null,
      "grid_auto_columns": null,
      "grid_auto_flow": null,
      "grid_auto_rows": null,
      "grid_column": null,
      "grid_gap": null,
      "grid_row": null,
      "grid_template_areas": null,
      "grid_template_columns": null,
      "grid_template_rows": null,
      "height": null,
      "justify_content": null,
      "justify_items": null,
      "left": null,
      "margin": null,
      "max_height": null,
      "max_width": null,
      "min_height": null,
      "min_width": null,
      "object_fit": null,
      "object_position": null,
      "order": null,
      "overflow": null,
      "overflow_x": null,
      "overflow_y": null,
      "padding": null,
      "right": null,
      "top": null,
      "visibility": null,
      "width": null
     }
    },
    "9d71aa31abe14b8e97bf6d981b521585": {
     "model_module": "@jupyter-widgets/controls",
     "model_module_version": "1.5.0",
     "model_name": "ProgressStyleModel",
     "state": {
      "_model_module": "@jupyter-widgets/controls",
      "_model_module_version": "1.5.0",
      "_model_name": "ProgressStyleModel",
      "_view_count": null,
      "_view_module": "@jupyter-widgets/base",
      "_view_module_version": "1.2.0",
      "_view_name": "StyleView",
      "bar_color": null,
      "description_width": ""
     }
    },
    "9f724f729f414780b23df006929246ea": {
     "model_module": "@jupyter-widgets/base",
     "model_module_version": "1.2.0",
     "model_name": "LayoutModel",
     "state": {
      "_model_module": "@jupyter-widgets/base",
      "_model_module_version": "1.2.0",
      "_model_name": "LayoutModel",
      "_view_count": null,
      "_view_module": "@jupyter-widgets/base",
      "_view_module_version": "1.2.0",
      "_view_name": "LayoutView",
      "align_content": null,
      "align_items": null,
      "align_self": null,
      "border": null,
      "bottom": null,
      "display": null,
      "flex": null,
      "flex_flow": null,
      "grid_area": null,
      "grid_auto_columns": null,
      "grid_auto_flow": null,
      "grid_auto_rows": null,
      "grid_column": null,
      "grid_gap": null,
      "grid_row": null,
      "grid_template_areas": null,
      "grid_template_columns": null,
      "grid_template_rows": null,
      "height": null,
      "justify_content": null,
      "justify_items": null,
      "left": null,
      "margin": null,
      "max_height": null,
      "max_width": null,
      "min_height": null,
      "min_width": null,
      "object_fit": null,
      "object_position": null,
      "order": null,
      "overflow": null,
      "overflow_x": null,
      "overflow_y": null,
      "padding": null,
      "right": null,
      "top": null,
      "visibility": null,
      "width": null
     }
    },
    "a724dee8a8ab4240a02a5fd3372853e5": {
     "model_module": "@jupyter-widgets/base",
     "model_module_version": "1.2.0",
     "model_name": "LayoutModel",
     "state": {
      "_model_module": "@jupyter-widgets/base",
      "_model_module_version": "1.2.0",
      "_model_name": "LayoutModel",
      "_view_count": null,
      "_view_module": "@jupyter-widgets/base",
      "_view_module_version": "1.2.0",
      "_view_name": "LayoutView",
      "align_content": null,
      "align_items": null,
      "align_self": null,
      "border": null,
      "bottom": null,
      "display": null,
      "flex": null,
      "flex_flow": null,
      "grid_area": null,
      "grid_auto_columns": null,
      "grid_auto_flow": null,
      "grid_auto_rows": null,
      "grid_column": null,
      "grid_gap": null,
      "grid_row": null,
      "grid_template_areas": null,
      "grid_template_columns": null,
      "grid_template_rows": null,
      "height": null,
      "justify_content": null,
      "justify_items": null,
      "left": null,
      "margin": null,
      "max_height": null,
      "max_width": null,
      "min_height": null,
      "min_width": null,
      "object_fit": null,
      "object_position": null,
      "order": null,
      "overflow": null,
      "overflow_x": null,
      "overflow_y": null,
      "padding": null,
      "right": null,
      "top": null,
      "visibility": null,
      "width": null
     }
    },
    "b06cf2f7b1b44e3f9f361537676670cf": {
     "model_module": "@jupyter-widgets/controls",
     "model_module_version": "1.5.0",
     "model_name": "ProgressStyleModel",
     "state": {
      "_model_module": "@jupyter-widgets/controls",
      "_model_module_version": "1.5.0",
      "_model_name": "ProgressStyleModel",
      "_view_count": null,
      "_view_module": "@jupyter-widgets/base",
      "_view_module_version": "1.2.0",
      "_view_name": "StyleView",
      "bar_color": null,
      "description_width": ""
     }
    },
    "b333e3862db24c15b7cc17ffd18a0d8c": {
     "model_module": "@jupyter-widgets/base",
     "model_module_version": "1.2.0",
     "model_name": "LayoutModel",
     "state": {
      "_model_module": "@jupyter-widgets/base",
      "_model_module_version": "1.2.0",
      "_model_name": "LayoutModel",
      "_view_count": null,
      "_view_module": "@jupyter-widgets/base",
      "_view_module_version": "1.2.0",
      "_view_name": "LayoutView",
      "align_content": null,
      "align_items": null,
      "align_self": null,
      "border": null,
      "bottom": null,
      "display": null,
      "flex": null,
      "flex_flow": null,
      "grid_area": null,
      "grid_auto_columns": null,
      "grid_auto_flow": null,
      "grid_auto_rows": null,
      "grid_column": null,
      "grid_gap": null,
      "grid_row": null,
      "grid_template_areas": null,
      "grid_template_columns": null,
      "grid_template_rows": null,
      "height": null,
      "justify_content": null,
      "justify_items": null,
      "left": null,
      "margin": null,
      "max_height": null,
      "max_width": null,
      "min_height": null,
      "min_width": null,
      "object_fit": null,
      "object_position": null,
      "order": null,
      "overflow": null,
      "overflow_x": null,
      "overflow_y": null,
      "padding": null,
      "right": null,
      "top": null,
      "visibility": null,
      "width": null
     }
    },
    "b4d5ebe8ee3e4bd7a4b473401a6d77a7": {
     "model_module": "@jupyter-widgets/controls",
     "model_module_version": "1.5.0",
     "model_name": "HTMLModel",
     "state": {
      "_dom_classes": [],
      "_model_module": "@jupyter-widgets/controls",
      "_model_module_version": "1.5.0",
      "_model_name": "HTMLModel",
      "_view_count": null,
      "_view_module": "@jupyter-widgets/controls",
      "_view_module_version": "1.5.0",
      "_view_name": "HTMLView",
      "description": "",
      "description_tooltip": null,
      "layout": "IPY_MODEL_9cf56d987fa344879caa7e9b6a601d8a",
      "placeholder": "​",
      "style": "IPY_MODEL_e6a19065def54f8d8877c445aec6524c",
      "value": " 534M/534M [00:23&lt;00:00, 19.0MB/s]"
     }
    },
    "b667002330ef4c13a309693e8c27beab": {
     "model_module": "@jupyter-widgets/base",
     "model_module_version": "1.2.0",
     "model_name": "LayoutModel",
     "state": {
      "_model_module": "@jupyter-widgets/base",
      "_model_module_version": "1.2.0",
      "_model_name": "LayoutModel",
      "_view_count": null,
      "_view_module": "@jupyter-widgets/base",
      "_view_module_version": "1.2.0",
      "_view_name": "LayoutView",
      "align_content": null,
      "align_items": null,
      "align_self": null,
      "border": null,
      "bottom": null,
      "display": null,
      "flex": null,
      "flex_flow": null,
      "grid_area": null,
      "grid_auto_columns": null,
      "grid_auto_flow": null,
      "grid_auto_rows": null,
      "grid_column": null,
      "grid_gap": null,
      "grid_row": null,
      "grid_template_areas": null,
      "grid_template_columns": null,
      "grid_template_rows": null,
      "height": null,
      "justify_content": null,
      "justify_items": null,
      "left": null,
      "margin": null,
      "max_height": null,
      "max_width": null,
      "min_height": null,
      "min_width": null,
      "object_fit": null,
      "object_position": null,
      "order": null,
      "overflow": null,
      "overflow_x": null,
      "overflow_y": null,
      "padding": null,
      "right": null,
      "top": null,
      "visibility": null,
      "width": null
     }
    },
    "b7c9d118eada403e905389d1a02762ea": {
     "model_module": "@jupyter-widgets/controls",
     "model_module_version": "1.5.0",
     "model_name": "FloatProgressModel",
     "state": {
      "_dom_classes": [],
      "_model_module": "@jupyter-widgets/controls",
      "_model_module_version": "1.5.0",
      "_model_name": "FloatProgressModel",
      "_view_count": null,
      "_view_module": "@jupyter-widgets/controls",
      "_view_module_version": "1.5.0",
      "_view_name": "ProgressView",
      "bar_style": "success",
      "description": "",
      "description_tooltip": null,
      "layout": "IPY_MODEL_a724dee8a8ab4240a02a5fd3372853e5",
      "max": 4305025,
      "min": 0,
      "orientation": "horizontal",
      "style": "IPY_MODEL_b06cf2f7b1b44e3f9f361537676670cf",
      "value": 4305025
     }
    },
    "b9d5d5f0784f40ddae77c4aed18286be": {
     "model_module": "@jupyter-widgets/base",
     "model_module_version": "1.2.0",
     "model_name": "LayoutModel",
     "state": {
      "_model_module": "@jupyter-widgets/base",
      "_model_module_version": "1.2.0",
      "_model_name": "LayoutModel",
      "_view_count": null,
      "_view_module": "@jupyter-widgets/base",
      "_view_module_version": "1.2.0",
      "_view_name": "LayoutView",
      "align_content": null,
      "align_items": null,
      "align_self": null,
      "border": null,
      "bottom": null,
      "display": null,
      "flex": null,
      "flex_flow": null,
      "grid_area": null,
      "grid_auto_columns": null,
      "grid_auto_flow": null,
      "grid_auto_rows": null,
      "grid_column": null,
      "grid_gap": null,
      "grid_row": null,
      "grid_template_areas": null,
      "grid_template_columns": null,
      "grid_template_rows": null,
      "height": null,
      "justify_content": null,
      "justify_items": null,
      "left": null,
      "margin": null,
      "max_height": null,
      "max_width": null,
      "min_height": null,
      "min_width": null,
      "object_fit": null,
      "object_position": null,
      "order": null,
      "overflow": null,
      "overflow_x": null,
      "overflow_y": null,
      "padding": null,
      "right": null,
      "top": null,
      "visibility": null,
      "width": null
     }
    },
    "c23a3b90a2e24c16bb7069e5373cdff8": {
     "model_module": "@jupyter-widgets/controls",
     "model_module_version": "1.5.0",
     "model_name": "HTMLModel",
     "state": {
      "_dom_classes": [],
      "_model_module": "@jupyter-widgets/controls",
      "_model_module_version": "1.5.0",
      "_model_name": "HTMLModel",
      "_view_count": null,
      "_view_module": "@jupyter-widgets/controls",
      "_view_module_version": "1.5.0",
      "_view_name": "HTMLView",
      "description": "",
      "description_tooltip": null,
      "layout": "IPY_MODEL_69477badcd1f4988a93e752b9eb65468",
      "placeholder": "​",
      "style": "IPY_MODEL_876032b4c94945f0bf9bfc14334e65b9",
      "value": "Downloading: 100%"
     }
    },
    "c5ffb71c39c04b4cbcc67a185ff8f17a": {
     "model_module": "@jupyter-widgets/controls",
     "model_module_version": "1.5.0",
     "model_name": "HTMLModel",
     "state": {
      "_dom_classes": [],
      "_model_module": "@jupyter-widgets/controls",
      "_model_module_version": "1.5.0",
      "_model_name": "HTMLModel",
      "_view_count": null,
      "_view_module": "@jupyter-widgets/controls",
      "_view_module_version": "1.5.0",
      "_view_name": "HTMLView",
      "description": "",
      "description_tooltip": null,
      "layout": "IPY_MODEL_eebe6c5c9472416792ca448ae1f48df7",
      "placeholder": "​",
      "style": "IPY_MODEL_32a3136cac92461e99ae3bb8510d4cbc",
      "value": " 4.11M/4.11M [00:00&lt;00:00, 8.41MB/s]"
     }
    },
    "c64d052f56a844f7b8c7735717dc8743": {
     "model_module": "@jupyter-widgets/controls",
     "model_module_version": "1.5.0",
     "model_name": "HBoxModel",
     "state": {
      "_dom_classes": [],
      "_model_module": "@jupyter-widgets/controls",
      "_model_module_version": "1.5.0",
      "_model_name": "HBoxModel",
      "_view_count": null,
      "_view_module": "@jupyter-widgets/controls",
      "_view_module_version": "1.5.0",
      "_view_name": "HBoxView",
      "box_style": "",
      "children": [
       "IPY_MODEL_30f99f9a5ce04211a558c7f7e66e74f7",
       "IPY_MODEL_2a6992ecb2b347478ff9054b99864a9a",
       "IPY_MODEL_f1605b0981844e83b403185a2bc61edc"
      ],
      "layout": "IPY_MODEL_870a0e506e8e404ca21bacdc3d98565d"
     }
    },
    "ccbcd126e6e24440820eeecb9ca9d5c7": {
     "model_module": "@jupyter-widgets/controls",
     "model_module_version": "1.5.0",
     "model_name": "HTMLModel",
     "state": {
      "_dom_classes": [],
      "_model_module": "@jupyter-widgets/controls",
      "_model_module_version": "1.5.0",
      "_model_name": "HTMLModel",
      "_view_count": null,
      "_view_module": "@jupyter-widgets/controls",
      "_view_module_version": "1.5.0",
      "_view_name": "HTMLView",
      "description": "",
      "description_tooltip": null,
      "layout": "IPY_MODEL_2249bbb0516640e1929bb356b5a44826",
      "placeholder": "​",
      "style": "IPY_MODEL_d78ed2ef64374b0cbc478a2bd5655aa8",
      "value": "Downloading: 100%"
     }
    },
    "d5474345449e429681eaa7a7d7d86563": {
     "model_module": "@jupyter-widgets/controls",
     "model_module_version": "1.5.0",
     "model_name": "FloatProgressModel",
     "state": {
      "_dom_classes": [],
      "_model_module": "@jupyter-widgets/controls",
      "_model_module_version": "1.5.0",
      "_model_name": "FloatProgressModel",
      "_view_count": null,
      "_view_module": "@jupyter-widgets/controls",
      "_view_module_version": "1.5.0",
      "_view_name": "ProgressView",
      "bar_style": "success",
      "description": "",
      "description_tooltip": null,
      "layout": "IPY_MODEL_b9d5d5f0784f40ddae77c4aed18286be",
      "max": 560166373,
      "min": 0,
      "orientation": "horizontal",
      "style": "IPY_MODEL_57d8f6cb2a134e28ab50763944e297fd",
      "value": 560166373
     }
    },
    "d78ed2ef64374b0cbc478a2bd5655aa8": {
     "model_module": "@jupyter-widgets/controls",
     "model_module_version": "1.5.0",
     "model_name": "DescriptionStyleModel",
     "state": {
      "_model_module": "@jupyter-widgets/controls",
      "_model_module_version": "1.5.0",
      "_model_name": "DescriptionStyleModel",
      "_view_count": null,
      "_view_module": "@jupyter-widgets/base",
      "_view_module_version": "1.2.0",
      "_view_name": "StyleView",
      "description_width": ""
     }
    },
    "e6a19065def54f8d8877c445aec6524c": {
     "model_module": "@jupyter-widgets/controls",
     "model_module_version": "1.5.0",
     "model_name": "DescriptionStyleModel",
     "state": {
      "_model_module": "@jupyter-widgets/controls",
      "_model_module_version": "1.5.0",
      "_model_name": "DescriptionStyleModel",
      "_view_count": null,
      "_view_module": "@jupyter-widgets/base",
      "_view_module_version": "1.2.0",
      "_view_name": "StyleView",
      "description_width": ""
     }
    },
    "e97ad8226f96459491c50289d98ea87a": {
     "model_module": "@jupyter-widgets/controls",
     "model_module_version": "1.5.0",
     "model_name": "HBoxModel",
     "state": {
      "_dom_classes": [],
      "_model_module": "@jupyter-widgets/controls",
      "_model_module_version": "1.5.0",
      "_model_name": "HBoxModel",
      "_view_count": null,
      "_view_module": "@jupyter-widgets/controls",
      "_view_module_version": "1.5.0",
      "_view_name": "HBoxView",
      "box_style": "",
      "children": [
       "IPY_MODEL_4597a0b9617e4b59909055c66908fb90",
       "IPY_MODEL_b7c9d118eada403e905389d1a02762ea",
       "IPY_MODEL_c5ffb71c39c04b4cbcc67a185ff8f17a"
      ],
      "layout": "IPY_MODEL_135f969acfc84b2d99a642947c6cc5c9"
     }
    },
    "ee35ac9c3d9a458cbe51ee88dc29db0f": {
     "model_module": "@jupyter-widgets/controls",
     "model_module_version": "1.5.0",
     "model_name": "FloatProgressModel",
     "state": {
      "_dom_classes": [],
      "_model_module": "@jupyter-widgets/controls",
      "_model_module_version": "1.5.0",
      "_model_name": "FloatProgressModel",
      "_view_count": null,
      "_view_module": "@jupyter-widgets/controls",
      "_view_module_version": "1.5.0",
      "_view_name": "ProgressView",
      "bar_style": "success",
      "description": "",
      "description_tooltip": null,
      "layout": "IPY_MODEL_9f724f729f414780b23df006929246ea",
      "max": 579,
      "min": 0,
      "orientation": "horizontal",
      "style": "IPY_MODEL_69cdcd216a0f4473a413e2a8a55c7f42",
      "value": 579
     }
    },
    "eebe6c5c9472416792ca448ae1f48df7": {
     "model_module": "@jupyter-widgets/base",
     "model_module_version": "1.2.0",
     "model_name": "LayoutModel",
     "state": {
      "_model_module": "@jupyter-widgets/base",
      "_model_module_version": "1.2.0",
      "_model_name": "LayoutModel",
      "_view_count": null,
      "_view_module": "@jupyter-widgets/base",
      "_view_module_version": "1.2.0",
      "_view_name": "LayoutView",
      "align_content": null,
      "align_items": null,
      "align_self": null,
      "border": null,
      "bottom": null,
      "display": null,
      "flex": null,
      "flex_flow": null,
      "grid_area": null,
      "grid_auto_columns": null,
      "grid_auto_flow": null,
      "grid_auto_rows": null,
      "grid_column": null,
      "grid_gap": null,
      "grid_row": null,
      "grid_template_areas": null,
      "grid_template_columns": null,
      "grid_template_rows": null,
      "height": null,
      "justify_content": null,
      "justify_items": null,
      "left": null,
      "margin": null,
      "max_height": null,
      "max_width": null,
      "min_height": null,
      "min_width": null,
      "object_fit": null,
      "object_position": null,
      "order": null,
      "overflow": null,
      "overflow_x": null,
      "overflow_y": null,
      "padding": null,
      "right": null,
      "top": null,
      "visibility": null,
      "width": null
     }
    },
    "f1605b0981844e83b403185a2bc61edc": {
     "model_module": "@jupyter-widgets/controls",
     "model_module_version": "1.5.0",
     "model_name": "HTMLModel",
     "state": {
      "_dom_classes": [],
      "_model_module": "@jupyter-widgets/controls",
      "_model_module_version": "1.5.0",
      "_model_name": "HTMLModel",
      "_view_count": null,
      "_view_module": "@jupyter-widgets/controls",
      "_view_module_version": "1.5.0",
      "_view_name": "HTMLView",
      "description": "",
      "description_tooltip": null,
      "layout": "IPY_MODEL_09143f6a137145218b004535f7b53162",
      "placeholder": "​",
      "style": "IPY_MODEL_f65cf7ad238c4cfa9d3a1fe9f0434ae0",
      "value": " 52.0/52.0 [00:00&lt;00:00, 1.55kB/s]"
     }
    },
    "f194f74dbce2497f89299e274733c8c6": {
     "model_module": "@jupyter-widgets/controls",
     "model_module_version": "1.5.0",
     "model_name": "HTMLModel",
     "state": {
      "_dom_classes": [],
      "_model_module": "@jupyter-widgets/controls",
      "_model_module_version": "1.5.0",
      "_model_name": "HTMLModel",
      "_view_count": null,
      "_view_module": "@jupyter-widgets/controls",
      "_view_module_version": "1.5.0",
      "_view_name": "HTMLView",
      "description": "",
      "description_tooltip": null,
      "layout": "IPY_MODEL_b667002330ef4c13a309693e8c27beab",
      "placeholder": "​",
      "style": "IPY_MODEL_78d87bfa1d5a494e84a782f98f1103a3",
      "value": " 579/579 [00:00&lt;00:00, 14.9kB/s]"
     }
    },
    "f65cf7ad238c4cfa9d3a1fe9f0434ae0": {
     "model_module": "@jupyter-widgets/controls",
     "model_module_version": "1.5.0",
     "model_name": "DescriptionStyleModel",
     "state": {
      "_model_module": "@jupyter-widgets/controls",
      "_model_module_version": "1.5.0",
      "_model_name": "DescriptionStyleModel",
      "_view_count": null,
      "_view_module": "@jupyter-widgets/base",
      "_view_module_version": "1.2.0",
      "_view_name": "StyleView",
      "description_width": ""
     }
    }
   }
  }
 },
 "nbformat": 4,
 "nbformat_minor": 4
}
